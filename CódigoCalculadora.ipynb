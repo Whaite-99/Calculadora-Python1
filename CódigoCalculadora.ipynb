{
  "nbformat": 4,
  "nbformat_minor": 0,
  "metadata": {
    "colab": {
      "provenance": []
    },
    "kernelspec": {
      "name": "python3",
      "display_name": "Python 3"
    },
    "language_info": {
      "name": "python"
    }
  },
  "cells": [
    {
      "cell_type": "markdown",
      "source": [
        "## Código calculadora em Python"
      ],
      "metadata": {
        "id": "LJs1pFGR7pFF"
      }
    },
    {
      "cell_type": "code",
      "source": [
        "# Variaveis\n",
        "num1 = 0\n",
        "num2 = 0\n",
        "operação = ''\n",
        "resultado = 0\n",
        "\n",
        "\n",
        "\n",
        "while True:\n",
        "    num1 = float(input('Digite o primeiro número: '))\n",
        "    operação = input('Digite a operação')\n",
        "    num2 =  float(input('Digite o segundo número: '))\n",
        "    if operação == '+':\n",
        "        resultado = num1 + num2\n",
        "    elif operação == '-':\n",
        "        resultado = num1 - num2\n",
        "    elif operação == '*':\n",
        "        resultado = num1 * num2\n",
        "    elif operação == '/':\n",
        "        resultado = num1 / num2\n",
        "    else:\n",
        "        print('Operação inválida')\n",
        "        resultado = 0\n",
        "    print('Resultado é:', resultado)\n"
      ],
      "metadata": {
        "id": "duO5LW5k7viA"
      },
      "execution_count": null,
      "outputs": []
    },
    {
      "cell_type": "markdown",
      "source": [],
      "metadata": {
        "id": "iAXKNwi57ooX"
      }
    }
  ]
}