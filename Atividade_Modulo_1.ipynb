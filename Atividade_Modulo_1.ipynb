{
  "nbformat": 4,
  "nbformat_minor": 0,
  "metadata": {
    "colab": {
      "provenance": []
    },
    "kernelspec": {
      "name": "python3",
      "display_name": "Python 3"
    },
    "language_info": {
      "name": "python"
    }
  },
  "cells": [
    {
      "cell_type": "markdown",
      "source": [
        "# Atividade módulo 1"
      ],
      "metadata": {
        "id": "_3ocmlIK44f6"
      }
    },
    {
      "cell_type": "code",
      "source": [
        "# Variaveis\n",
        "num1 = 0\n",
        "num2 = 0\n",
        "operação = ''\n",
        "resultado = 0"
      ],
      "metadata": {
        "id": "-iMXCpV548ep"
      },
      "execution_count": 23,
      "outputs": []
    },
    {
      "cell_type": "code",
      "source": [
        "\n",
        "while True:\n",
        "    num1 = float(input('Digite o primeiro número: '))\n",
        "    operação = input('Digite a operação')\n",
        "    num2 =  float(input('Digite o segundo número: '))\n",
        "    if operação == '+':\n",
        "        resultado = num1 + num2\n",
        "    elif operação == '-':\n",
        "        resultado = num1 - num2\n",
        "    elif operação == '*':\n",
        "        resultado = num1 * num2\n",
        "    elif operação == '/':\n",
        "        resultado = num1 / num2\n",
        "    else:\n",
        "        print('Operação inválida')\n",
        "        resultado = 0\n",
        "    print('Resultado é:', resultado)\n",
        "\n",
        "\n"
      ],
      "metadata": {
        "colab": {
          "base_uri": "https://localhost:8080/"
        },
        "id": "-40JCByc7KWZ",
        "outputId": "a2865908-5399-4dec-b2d3-11e77333ccce"
      },
      "execution_count": null,
      "outputs": [
        {
          "output_type": "stream",
          "name": "stdout",
          "text": [
            "Digite o primeiro número: 10\n",
            "Digite a operação+\n",
            "Digite o segundo número: 5\n",
            "Resultado é: 15.0\n",
            "Digite o primeiro número: 7\n",
            "Digite a operação-\n",
            "Digite o segundo número: 4\n",
            "Resultado é: 3.0\n",
            "Digite o primeiro número: 8\n",
            "Digite a operação*\n",
            "Digite o segundo número: 4\n",
            "Resultado é: 32.0\n",
            "Digite o primeiro número: 80\n",
            "Digite a operação/\n",
            "Digite o segundo número: 5\n",
            "Resultado é: 16.0\n",
            "Digite o primeiro número: 10\n",
            "Digite a operação%\n",
            "Digite o segundo número: 50\n",
            "Operação inválida\n",
            "Resultado é: 0\n"
          ]
        }
      ]
    }
  ]
}